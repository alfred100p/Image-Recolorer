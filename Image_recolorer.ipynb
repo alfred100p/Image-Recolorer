{
  "nbformat": 4,
  "nbformat_minor": 0,
  "metadata": {
    "colab": {
      "name": "Image recolorer.ipynb",
      "provenance": []
    },
    "kernelspec": {
      "name": "python3",
      "display_name": "Python 3"
    }
  },
  "cells": [
    {
      "cell_type": "code",
      "metadata": {
        "id": "ZDr3q4ysR7y_"
      },
      "source": [
        "#imports\n",
        "from PIL import Image as im\n",
        "import cv2\n",
        "import numpy as np "
      ],
      "execution_count": null,
      "outputs": []
    },
    {
      "cell_type": "code",
      "metadata": {
        "id": "y0HlQtTI3u97"
      },
      "source": [
        "#linking drive only use if planning to use files in google drive\n",
        "from google.colab import drive\n",
        "drive.mount('/content/drive')\n"
      ],
      "execution_count": null,
      "outputs": []
    },
    {
      "cell_type": "code",
      "metadata": {
        "id": "JwoUYvVrSR3V"
      },
      "source": [
        "pat='path to parent directory'#if using google drive use '/content/drive/My Drive/'\n",
        "img=cv2.imread(pat+'img name')\n",
        "\n",
        "image= cv2.cvtColor(img, cv2.COLOR_BGR2RGB)\n"
      ],
      "execution_count": null,
      "outputs": []
    },
    {
      "cell_type": "code",
      "metadata": {
        "id": "UNYUv-L7SsN9"
      },
      "source": [
        "#USE this or next cell, modify image values are red,green and blue range is 0-255 0 is low contribution 255 is high\n",
        "#image2 conatins new pixel values of image so create functions to create required transformation\n",
        "image2=image.copy()\n",
        "for i in range(image.shape[0]):\n",
        "  for j in range(image.shape[1]):\n",
        "    if image2[i,j,0]<20 and image2[i,j,1]<20 and image2[i,j,2]<20:\n",
        "      image2[i,j]=[min(image2[i,j,0]+50,100),max(image2[i,j,1]-10,180),min(image2[i,j,0]+120,160)]\n",
        "      \n",
        "    elif image2[i,j,0]<50 and image2[i,j,1]<50 and image2[i,j,2]<50:\n",
        "      image2[i,j]=[min(image2[i,j,0]+50,100),max(image2[i,j,1]-10,220),min(image2[i,j,0]+120,160)]\n",
        "    elif image2[i,j,0]<80 and image2[i,j,1]<80 and image2[i,j,2]<80:\n",
        "      image2[i,j]=[min(image2[i,j,0]+50,100),max(image2[i,j,1]-10,250),min(image2[i,j,0]+120,160)]\n"
      ],
      "execution_count": null,
      "outputs": []
    },
    {
      "cell_type": "code",
      "metadata": {
        "id": "5HCNKew7KVpn"
      },
      "source": [
        "#two colors\n",
        "image2=image.copy()\n",
        "for i in range(image.shape[0]):\n",
        "  for j in range(image.shape[1]):\n",
        "    if(np.sum(image[i,j])<300):\n",
        "      image2[i,j]=[min(image2[i,j,0],0),min(image2[i,j,1],0),max(image2[i,j,2]+80,150)]\n",
        "    else:\n",
        "      image2[i,j]=[max(image2[i,j,0]+50,200),min(image2[i,j,1]+110,0),min(image2[i,j,2]-20,120)]"
      ],
      "execution_count": null,
      "outputs": []
    },
    {
      "cell_type": "code",
      "metadata": {
        "id": "uYVp9KGHTFLJ"
      },
      "source": [
        "original_image = im.fromarray(image)\n",
        "mod_image=im.fromarray(image2)\n",
        "mod_image"
      ],
      "execution_count": null,
      "outputs": []
    },
    {
      "cell_type": "code",
      "metadata": {
        "id": "vmsFHxmmJ2E-"
      },
      "source": [
        "original_image"
      ],
      "execution_count": null,
      "outputs": []
    },
    {
      "cell_type": "code",
      "metadata": {
        "id": "CNu7NkZsT2fW"
      },
      "source": [
        ""
      ],
      "execution_count": null,
      "outputs": []
    }
  ]
}
